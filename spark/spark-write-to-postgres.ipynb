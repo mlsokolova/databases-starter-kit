{
  "cells": [
    {
      "cell_type": "code",
      "execution_count": null,
      "metadata": {
        "id": "FrZcHr_yImK6"
      },
      "outputs": [],
      "source": [
        "import requests\n",
        "dataset_url = \"https://data.gov.il/api/3/action/datastore_search?resource_id=2d834439-3f88-45ef-bf6e-9924c2f7e8f9&limit={records_count}\"\n",
        "request_info = requests.get(dataset_url.format(records_count=0))\n",
        "dataset_info_json = request_info.json()\n",
        "dataset_records_total = dataset_info_json[\"result\"][\"total\"]\n",
        "dataset_all_records_url = dataset_url.format(records_count=dataset_records_total)\n",
        "request_dataset = requests.get(dataset_all_records_url)\n",
        "dataset = request_dataset.json()\n"
      ]
    },
    {
      "cell_type": "code",
      "execution_count": null,
      "metadata": {
        "id": "EJ4mpncS80sq"
      },
      "outputs": [],
      "source": [
        "import pandas as pd"
      ]
    },
    {
      "cell_type": "code",
      "execution_count": null,
      "metadata": {
        "id": "dacLT5xv7Q3M"
      },
      "outputs": [],
      "source": [
        "pd_df = pd.DataFrame.from_dict(dataset[\"result\"][\"records\"])"
      ]
    },
    {
      "cell_type": "code",
      "execution_count": null,
      "metadata": {
        "colab": {
          "base_uri": "https://localhost:8080/"
        },
        "id": "cfApyhY_7Jma",
        "outputId": "e1be6b04-05df-4d3f-b6a8-f92367357b64"
      },
      "outputs": [],
      "source": [
        "pd_df.dtypes"
      ]
    },
    {
      "cell_type": "code",
      "execution_count": null,
      "metadata": {
        "colab": {
          "base_uri": "https://localhost:8080/",
          "height": 219
        },
        "id": "7x5lXLj82p_J",
        "outputId": "a3cbd1f8-0541-460c-d7ec-a8d471e7b1b7"
      },
      "outputs": [],
      "source": [
        "jar_path = \"/home/masha/projects/databases-collection/databases-starter-kit/gui-clients/jdbc/\"\n",
        "from pyspark.sql import SparkSession\n",
        "from pyspark.conf import SparkConf\n",
        "spark_conf = SparkConf().setAppName(\"myApp\")\\\n",
        "                      .setMaster(\"spark://rockmashine:7077\")\\\n",
        "                      .set(\"spark.sql.repl.eagerEval.enabled\", True)\\\n",
        "                      .set(\"spark.jars\", jar_path + \"postgresql-42.7.1.jar\")\n",
        "spark = SparkSession.builder.config(conf=spark_conf).getOrCreate()\n",
        "spark"
      ]
    },
    {
      "cell_type": "code",
      "execution_count": null,
      "metadata": {},
      "outputs": [],
      "source": [
        "spark.sparkContext.getConf().getAll()"
      ]
    },
    {
      "cell_type": "code",
      "execution_count": null,
      "metadata": {
        "colab": {
          "base_uri": "https://localhost:8080/"
        },
        "id": "RcRE04Us63Km",
        "outputId": "ad72ecb0-5a26-46b2-f2a0-7db63b376cf4"
      },
      "outputs": [],
      "source": [
        "pd_df.info()"
      ]
    },
    {
      "cell_type": "code",
      "execution_count": null,
      "metadata": {
        "colab": {
          "base_uri": "https://localhost:8080/",
          "height": 424
        },
        "id": "2F2ZZhaLHSob",
        "outputId": "b617b4a7-8025-4329-fd7a-9c7339782992"
      },
      "outputs": [],
      "source": [
        "pd_df"
      ]
    },
    {
      "cell_type": "code",
      "execution_count": null,
      "metadata": {
        "id": "ALXIKOboHNJd"
      },
      "outputs": [],
      "source": [
        "from pyspark.sql.types import StructType, StructField, StringType, IntegerType, TimestampType, DoubleType"
      ]
    },
    {
      "cell_type": "code",
      "execution_count": null,
      "metadata": {
        "id": "44Lq3wmSGyrg"
      },
      "outputs": [],
      "source": [
        "schema = StructType([\n",
        "    StructField(\"_id\", IntegerType(), True),\n",
        "    StructField(\"שם תחנה\", StringType(), True),\n",
        "    StructField(\"תאריך ניטור\", StringType(), True),\n",
        "    StructField(\"שיטת מדידה\", StringType(), True),\n",
        "    StructField(\"סמל פרמטר\", StringType(), True),\n",
        "    StructField(\"תוצאה\", StringType(), True),\n",
        "    StructField(\"יחידת מדידה\", StringType(), True),\n",
        "])"
      ]
    },
    {
      "cell_type": "code",
      "execution_count": null,
      "metadata": {
        "id": "MVbpZCDR21G1"
      },
      "outputs": [],
      "source": [
        "sdf = spark.createDataFrame(dataset[\"result\"][\"records\"], schema)\n",
        "#spark.createDataFrame(pd_df, schema)"
      ]
    },
    {
      "cell_type": "code",
      "execution_count": null,
      "metadata": {
        "id": "Lk7QQqgdNtgR"
      },
      "outputs": [],
      "source": [
        "from pyspark.sql.functions import to_timestamp, to_date\n",
        "from pyspark.sql.functions import col"
      ]
    },
    {
      "cell_type": "code",
      "execution_count": null,
      "metadata": {
        "colab": {
          "base_uri": "https://localhost:8080/",
          "height": 529
        },
        "id": "qvKPIqOVMrP8",
        "outputId": "181c68d5-53f3-4764-9f6e-3e8f3ea4fe82"
      },
      "outputs": [],
      "source": [
        "sdf.select(\"_id\", \"שם תחנה\", \"תאריך ניטור\", to_timestamp(\"תאריך ניטור\", \"yyyy-MM-dd'T'HH:mm:SS\").alias('dt'),\"שיטת מדידה\", \"סמל פרמטר\", \"תוצאה\", col(\"תוצאה\").cast(\"Float\").alias('val'), \"יחידת מדידה\" )"
      ]
    },
    {
      "cell_type": "code",
      "execution_count": null,
      "metadata": {
        "id": "DM7RNy8aKluR"
      },
      "outputs": [],
      "source": [
        "new_sdf = sdf.select(\"_id\", col(\"שם תחנה\").alias(\"station_name\"),\n",
        "                     to_timestamp(\"תאריך ניטור\", \"yyyy-MM-dd'T'HH:mm:SS\").alias('ts'),\n",
        "                     col(\"שיטת מדידה\").alias(\"meter_method\"),\n",
        "                     col(\"סמל פרמטר\").alias(\"meter_object_abbreviation\"),\n",
        "                     col(\"תוצאה\").cast(\"Float\").alias('val'),\n",
        "                     col(\"יחידת מדידה\").alias(\"uom\") )"
      ]
    },
    {
      "cell_type": "code",
      "execution_count": null,
      "metadata": {},
      "outputs": [],
      "source": [
        "new_sdf"
      ]
    },
    {
      "cell_type": "code",
      "execution_count": null,
      "metadata": {
        "id": "BQPlJOIxWovh"
      },
      "outputs": [],
      "source": [
        "rdd = new_sdf.rdd"
      ]
    },
    {
      "cell_type": "code",
      "execution_count": null,
      "metadata": {
        "colab": {
          "base_uri": "https://localhost:8080/"
        },
        "id": "cJ_ksDd9iZCK",
        "outputId": "987707f4-5f4d-4187-cbbf-6c1981cadb2b"
      },
      "outputs": [],
      "source": [
        "rdd.take(5)"
      ]
    },
    {
      "cell_type": "code",
      "execution_count": null,
      "metadata": {},
      "outputs": [],
      "source": [
        "import getpass\n",
        "pg_options = {\n",
        "    \"url\": \"jdbc:postgresql://192.168.49.2:5432/mydb\",\n",
        "    \"user\": \"postgres\",\n",
        "    \"password\": getpass.getpass(prompt=\"postgre password\"),\n",
        "    \"dbtable\": \"jordan_water_quality\",\n",
        "    \"driver\": \"org.postgresql.Driver\",\n",
        "}\n",
        "\n",
        "new_sdf.write\\\n",
        "    .format(\"jdbc\")\\\n",
        "    .mode(\"overwrite\")\\\n",
        "    .options(**pg_options)\\\n",
        "    .save()\n"
      ]
    }
  ],
  "metadata": {
    "colab": {
      "provenance": []
    },
    "gpuClass": "standard",
    "kernelspec": {
      "display_name": "Python 3",
      "name": "python3"
    },
    "language_info": {
      "codemirror_mode": {
        "name": "ipython",
        "version": 3
      },
      "file_extension": ".py",
      "mimetype": "text/x-python",
      "name": "python",
      "nbconvert_exporter": "python",
      "pygments_lexer": "ipython3",
      "version": "3.11.3"
    }
  },
  "nbformat": 4,
  "nbformat_minor": 0
}
